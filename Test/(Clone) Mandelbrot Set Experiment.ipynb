{
 "cells": [
  {
   "cell_type": "markdown",
   "metadata": {
    "application/vnd.databricks.v1+cell": {
     "cellMetadata": {},
     "inputWidgets": {},
     "nuid": "afa32202-eff0-4f0d-87c3-2dbf23823575",
     "showTitle": false,
     "tableResultSettingsMap": {},
     "title": ""
    }
   },
   "source": [
    "# Mandelbrot Set and its Sections\n",
    "### A Simple Algorithm"
   ]
  },
  {
   "cell_type": "code",
   "execution_count": 0,
   "metadata": {
    "application/vnd.databricks.v1+cell": {
     "cellMetadata": {
      "byteLimit": 2048000,
      "rowLimit": 10000
     },
     "inputWidgets": {},
     "nuid": "bb5a8792-08f5-48fe-a349-d22972608bf1",
     "showTitle": false,
     "tableResultSettingsMap": {},
     "title": ""
    },
    "jupyter": {
     "source_hidden": true
    }
   },
   "outputs": [],
   "source": [
    "import numpy as np\n",
    "import matplotlib as plt"
   ]
  },
  {
   "cell_type": "code",
   "execution_count": 0,
   "metadata": {
    "application/vnd.databricks.v1+cell": {
     "cellMetadata": {
      "byteLimit": 2048000,
      "rowLimit": 10000
     },
     "inputWidgets": {},
     "nuid": "635b70f9-7e14-42be-a32d-3b1bd3c4e65a",
     "showTitle": false,
     "tableResultSettingsMap": {},
     "title": ""
    }
   },
   "outputs": [],
   "source": [
    "def mandelbrot(c, max_iter):\n",
    "    z = 0\n",
    "    for n in range(max_iter):\n",
    "        if abs(z) > 2:\n",
    "            return n\n",
    "        z = z*z + c\n",
    "    return max_iter"
   ]
  },
  {
   "cell_type": "code",
   "execution_count": 0,
   "metadata": {
    "application/vnd.databricks.v1+cell": {
     "cellMetadata": {
      "byteLimit": 2048000,
      "rowLimit": 10000
     },
     "inputWidgets": {},
     "nuid": "4d51edd0-6201-41ba-83bd-4f1e247abbb0",
     "showTitle": false,
     "tableResultSettingsMap": {},
     "title": ""
    }
   },
   "outputs": [],
   "source": [
    "def mandelbrot_set(xmin, xmax, ymin, ymax, width, height, max_iter):\n",
    "    x = np.linspace(xmin, xmax, width)\n",
    "    y = np.linspace(ymin, ymax, height)\n",
    "    mbset = np.empty((width, height))\n",
    "\n",
    "    for i in range(height):\n",
    "        for j in range(width):\n",
    "            c = complex(x[j], y[i])\n",
    "            mbset[i, j] = mandelbrot(c, max_iter)\n",
    "\n",
    "    return mbset"
   ]
  },
  {
   "cell_type": "code",
   "execution_count": 0,
   "metadata": {
    "application/vnd.databricks.v1+cell": {
     "cellMetadata": {
      "byteLimit": 2048000,
      "rowLimit": 10000
     },
     "inputWidgets": {},
     "nuid": "b0c25ff3-291b-4e9c-a2b7-4988e3433cff",
     "showTitle": false,
     "tableResultSettingsMap": {},
     "title": ""
    },
    "jupyter": {
     "source_hidden": true
    }
   },
   "outputs": [],
   "source": [
    "mb_img_mat = mandelbrot_set(-2.0, 1.0, -1.5, 1.5, 1024, 1024, 256)\n",
    "plt.pyplot.imshow(mb_img_mat, extent = [-2.0, 1, -1.5, 1.5], cmap = 'hot')\n",
    "#plt.pyplot.colorbar()\n",
    "plt.pyplot.title(\"Mandelbrot Experiment\")\n",
    "plt.pyplot.xlabel(\"Re(c)\")\n",
    "plt.pyplot.ylabel(\"Im(c)\")\n",
    "plt.pyplot.axis('off')\n",
    "plt.pyplot.savefig(\"mb_img0.png\", format = \"png\", dpi = 1200)\n",
    "plt.pyplot.show()\n",
    "#plt.pyplot.imsave(\"mb_img0.png\", mb_img_mat, cmap = 'hot')"
   ]
  },
  {
   "cell_type": "code",
   "execution_count": 0,
   "metadata": {
    "application/vnd.databricks.v1+cell": {
     "cellMetadata": {
      "byteLimit": 2048000,
      "rowLimit": 10000
     },
     "inputWidgets": {},
     "nuid": "2d08fd98-de9b-46e9-b528-b8c479283e70",
     "showTitle": false,
     "tableResultSettingsMap": {},
     "title": ""
    },
    "jupyter": {
     "source_hidden": true
    }
   },
   "outputs": [],
   "source": [
    "mb_img_mat = mandelbrot_set(-1.0, 0.0, -0.5, 0.5, 1024, 1024, 256)\n",
    "plt.pyplot.imshow(mb_img_mat, extent = [-1.0, 0.0, -0.5, 0.5], cmap = 'hot')\n",
    "#plt.pyplot.colorbar()\n",
    "plt.pyplot.title(\"Mandelbrot Experiment\")\n",
    "plt.pyplot.xlabel(\"Re(c)\")\n",
    "plt.pyplot.ylabel(\"Im(c)\")\n",
    "plt.pyplot.axis('off')\n",
    "plt.pyplot.savefig(\"mb_img1.png\", format = \"png\", dpi = 1200)\n",
    "plt.pyplot.show()\n",
    "#plt.pyplot.imsave(\"mb_img1.png\", mb_img_mat, cmap = 'hot')"
   ]
  },
  {
   "cell_type": "code",
   "execution_count": 0,
   "metadata": {
    "application/vnd.databricks.v1+cell": {
     "cellMetadata": {
      "byteLimit": 2048000,
      "rowLimit": 10000
     },
     "inputWidgets": {},
     "nuid": "0d716230-5e12-4e65-8232-c8dc2c43a3a2",
     "showTitle": false,
     "tableResultSettingsMap": {},
     "title": ""
    },
    "jupyter": {
     "source_hidden": true
    }
   },
   "outputs": [],
   "source": [
    "mb_img_mat = mandelbrot_set(-0.8, -0.6, 0.0, 0.2, 1024, 1024, 256)\n",
    "plt.pyplot.imshow(mb_img_mat, extent = [-0.8, -0.6, 0.0, 0.2], cmap = 'hot')\n",
    "#plt.pyplot.colorbar()\n",
    "plt.pyplot.title(\"Mandelbrot Experiment\")\n",
    "plt.pyplot.xlabel(\"Re(c)\")\n",
    "plt.pyplot.ylabel(\"Im(c)\")\n",
    "plt.pyplot.axis('off')\n",
    "plt.pyplot.savefig(\"mb_img2.png\", format = \"png\", dpi = 1200)\n",
    "plt.pyplot.show()\n",
    "#plt.pyplot.imsave(\"mb_img2.png\", mb_img_mat, cmap = 'hot')"
   ]
  },
  {
   "cell_type": "code",
   "execution_count": 0,
   "metadata": {
    "application/vnd.databricks.v1+cell": {
     "cellMetadata": {
      "byteLimit": 2048000,
      "rowLimit": 10000
     },
     "inputWidgets": {},
     "nuid": "72ecdcaa-e3a8-43d0-a07d-f8a83d9a09c0",
     "showTitle": false,
     "tableResultSettingsMap": {},
     "title": ""
    },
    "jupyter": {
     "source_hidden": true
    }
   },
   "outputs": [],
   "source": [
    "mb_img_mat = mandelbrot_set(-0.753643863, -0.73364386269, 0.121825903, 0.14182590271, 1024, 1024, 256)\n",
    "plt.pyplot.imshow(mb_img_mat, extent = [-0.753643863, -0.73364386269, 0.121825903, 0.14182590271], cmap = 'hot')\n",
    "#plt.pyplot.colorbar()\n",
    "plt.pyplot.title(\"Mandelbrot Experiment\")\n",
    "plt.pyplot.xlabel(\"Re(c)\")\n",
    "plt.pyplot.ylabel(\"Im(c)\")\n",
    "plt.pyplot.axis('off')\n",
    "plt.pyplot.savefig(\"mb_img3.png\", format = \"png\", dpi = 1200)\n",
    "plt.pyplot.show()\n",
    "#plt.pyplot.imsave(\"mb_img3.png\", mb_img_mat, cmap = 'hot')"
   ]
  },
  {
   "cell_type": "code",
   "execution_count": 0,
   "metadata": {
    "application/vnd.databricks.v1+cell": {
     "cellMetadata": {
      "byteLimit": 2048000,
      "rowLimit": 10000
     },
     "inputWidgets": {},
     "nuid": "cdb975ff-cd22-4964-8634-44695402ef14",
     "showTitle": false,
     "tableResultSettingsMap": {},
     "title": ""
    },
    "jupyter": {
     "source_hidden": true
    }
   },
   "outputs": [],
   "source": [
    "mb_img_mat = mandelbrot_set(-0.744643863, -0.74264386269, 0.13082590271, 0.13282590271, 1024, 1024, 256)\n",
    "plt.pyplot.imshow(mb_img_mat, extent = [-0.744643863, -0.74264386269, 0.13082590271, 0.13282590271], cmap = 'hot')\n",
    "#plt.pyplot.colorbar()\n",
    "plt.pyplot.title(\"Mandelbrot Experiment\")\n",
    "plt.pyplot.xlabel(\"Re(c)\")\n",
    "plt.pyplot.ylabel(\"Im(c)\")\n",
    "plt.pyplot.axis('off')\n",
    "plt.pyplot.savefig(\"mb_img4.png\", format = \"png\", dpi = 1200)\n",
    "plt.pyplot.show()\n",
    "#plt.pyplot.imsave(\"mb_img4.png\", mb_img_mat, cmap = 'hot')"
   ]
  },
  {
   "cell_type": "code",
   "execution_count": 0,
   "metadata": {
    "application/vnd.databricks.v1+cell": {
     "cellMetadata": {
      "byteLimit": 2048000,
      "rowLimit": 10000
     },
     "inputWidgets": {},
     "nuid": "45b1094b-054a-4f26-9aba-174a0daf1f95",
     "showTitle": false,
     "tableResultSettingsMap": {},
     "title": ""
    },
    "jupyter": {
     "source_hidden": true
    }
   },
   "outputs": [],
   "source": [
    "mb_img_mat = mandelbrot_set(-0.743653887, -0.743633887, 0.131815903, 0.131835903, 1024, 1024, 256)\n",
    "plt.pyplot.imshow(mb_img_mat, extent = [-0.743653887, -0.743633887, 0.131815903, 0.131835903], cmap = 'hot')\n",
    "#plt.pyplot.colorbar()\n",
    "plt.pyplot.title(\"Mandelbrot Experiment\")\n",
    "plt.pyplot.xlabel(\"Re(c)\")\n",
    "plt.pyplot.ylabel(\"Im(c)\")\n",
    "plt.pyplot.axis('off')\n",
    "plt.pyplot.savefig(\"mb_img5.png\", format = \"png\", dpi = 1200)\n",
    "plt.pyplot.show()\n",
    "#plt.pyplot.imsave(\"mb_img5.png\", mb_img_mat, cmap = 'hot')"
   ]
  },
  {
   "cell_type": "code",
   "execution_count": 0,
   "metadata": {
    "application/vnd.databricks.v1+cell": {
     "cellMetadata": {
      "byteLimit": 2048000,
      "rowLimit": 10000
     },
     "inputWidgets": {},
     "nuid": "ec939db2-7e00-4f26-81a8-1622db0964db",
     "showTitle": false,
     "tableResultSettingsMap": {},
     "title": ""
    },
    "jupyter": {
     "source_hidden": true
    }
   },
   "outputs": [],
   "source": [
    "mb_img_mat = mandelbrot_set(-0.5, 0.0, -1.0, -0.5, 1024, 1024, 256)\n",
    "plt.pyplot.imshow(mb_img_mat, extent = [-0.5, -0.0, -1.0, -0.5], cmap = 'hot')\n",
    "#plt.pyplot.colorbar()\n",
    "plt.pyplot.title(\"Mandelbrot Experiment\")\n",
    "plt.pyplot.xlabel(\"Re(c)\")\n",
    "plt.pyplot.ylabel(\"Im(c)\")\n",
    "plt.pyplot.axis('off')\n",
    "plt.pyplot.savefig(\"mb_img6.png\", format = \"png\", dpi = 1200)\n",
    "plt.pyplot.show()\n",
    "#plt.pyplot.imsave(\"mb_img6.png\", mb_img_mat, cmap = 'hot')"
   ]
  },
  {
   "cell_type": "code",
   "execution_count": 0,
   "metadata": {
    "application/vnd.databricks.v1+cell": {
     "cellMetadata": {
      "byteLimit": 2048000,
      "rowLimit": 10000
     },
     "inputWidgets": {},
     "nuid": "521e65b0-de1d-42ea-868f-bcd84b267838",
     "showTitle": false,
     "tableResultSettingsMap": {},
     "title": ""
    },
    "jupyter": {
     "source_hidden": true
    }
   },
   "outputs": [],
   "source": [
    "mb_img_mat = mandelbrot_set(-0.5, 0.0, 0.5, 1.0, 1024, 1024, 256)\n",
    "plt.pyplot.imshow(mb_img_mat, extent = [-0.5, 0.0, 0.5, 1.0], cmap = 'hot')\n",
    "#plt.pyplot.colorbar()\n",
    "plt.pyplot.title(\"Mandelbrot Experiment\")\n",
    "plt.pyplot.xlabel(\"Re(c)\")\n",
    "plt.pyplot.ylabel(\"Im(c)\")\n",
    "plt.pyplot.axis('off')\n",
    "plt.pyplot.savefig(\"mb_img7.png\", format = \"png\", dpi = 1200)\n",
    "plt.pyplot.show()\n",
    "#plt.pyplot.imsave(\"mb_img7.png\", mb_img_mat, cmap = 'hot')\n"
   ]
  },
  {
   "cell_type": "code",
   "execution_count": 0,
   "metadata": {
    "application/vnd.databricks.v1+cell": {
     "cellMetadata": {
      "byteLimit": 2048000,
      "rowLimit": 10000
     },
     "inputWidgets": {},
     "nuid": "affb8934-0abe-43e2-9b6c-ae883f6f364a",
     "showTitle": false,
     "tableResultSettingsMap": {},
     "title": ""
    }
   },
   "outputs": [],
   "source": [
    "mb_img_mat = mandelbrot_set(-0.186,\t-0.134,\t1.0145,\t1.0665, 2048, 2048, 1024)\n",
    "plt.pyplot.imshow(mb_img_mat, extent = [-0.186,\t-0.134,\t1.0145,\t1.0665], cmap = 'hot')\n",
    "#plt.pyplot.figure(figsize=(8, 6))\n",
    "#plt.pyplot.colorbar()\n",
    "#plt.pyplot.title(\"Mandelbrot Section\")\n",
    "#plt.pyplot.xlabel(\"Re(c)\")\n",
    "#plt.pyplot.ylabel(\"Im(c)\")\n",
    "plt.pyplot.axis('off')\n",
    "plt.pyplot.savefig(\"mb_img8.png\", format = \"png\", dpi = 1200)\n",
    "plt.pyplot.show()"
   ]
  },
  {
   "cell_type": "code",
   "execution_count": 0,
   "metadata": {
    "application/vnd.databricks.v1+cell": {
     "cellMetadata": {
      "byteLimit": 2048000,
      "rowLimit": 10000
     },
     "inputWidgets": {},
     "nuid": "453b3436-70ef-4bc3-b5c9-fe80ae93b1c1",
     "showTitle": false,
     "tableResultSettingsMap": {},
     "title": ""
    },
    "jupyter": {
     "source_hidden": true
    }
   },
   "outputs": [],
   "source": [
    "mb_img_mat = mandelbrot_set(-0.741, -0.703, 0.227, 0.265, 1024, 1024, 256)\n",
    "plt.pyplot.imshow(mb_img_mat, extent = [-0.741, -0.703, 0.227, 0.265], cmap = 'hot')\n",
    "#plt.pyplot.colorbar()\n",
    "plt.pyplot.title(\"Mandelbrot Section\")\n",
    "plt.pyplot.xlabel(\"Re(c)\")\n",
    "plt.pyplot.ylabel(\"Im(c)\")\n",
    "plt.pyplot.axis('off')\n",
    "plt.pyplot.savefig(\"mb_img9.png\", format = \"png\", dpi = 1200)\n",
    "plt.pyplot.show()"
   ]
  },
  {
   "cell_type": "code",
   "execution_count": 0,
   "metadata": {
    "application/vnd.databricks.v1+cell": {
     "cellMetadata": {
      "byteLimit": 2048000,
      "rowLimit": 10000
     },
     "inputWidgets": {},
     "nuid": "3919aeb7-448e-405c-82c0-18dc923e5890",
     "showTitle": false,
     "tableResultSettingsMap": {},
     "title": ""
    },
    "jupyter": {
     "source_hidden": true
    }
   },
   "outputs": [],
   "source": [
    "mb_img_mat = mandelbrot_set(-0.235165, -0.235085, 0.827175, 0.827255, 1024, 1024, 256)\n",
    "plt.pyplot.imshow(mb_img_mat, extent = [-0.235165, -0.235085, 0.827175, 0.827255], cmap = 'hot')\n",
    "#plt.pyplot.colorbar()\n",
    "plt.pyplot.title(\"Mandelbrot Section\")\n",
    "plt.pyplot.xlabel(\"Re(c)\")\n",
    "plt.pyplot.ylabel(\"Im(c)\")\n",
    "plt.pyplot.axis('off')\n",
    "plt.pyplot.savefig(\"mb_img10.png\", format = \"png\", dpi = 1200)\n",
    "plt.pyplot.show()"
   ]
  },
  {
   "cell_type": "code",
   "execution_count": 0,
   "metadata": {
    "application/vnd.databricks.v1+cell": {
     "cellMetadata": {
      "byteLimit": 2048000,
      "rowLimit": 10000
     },
     "inputWidgets": {},
     "nuid": "df3c89a8-e986-475d-b6e1-53c995339b73",
     "showTitle": false,
     "tableResultSettingsMap": {},
     "title": ""
    }
   },
   "outputs": [],
   "source": [
    "mb_img_mat = mandelbrot_set(-0.235165, -0.235085, 0.827175, 0.827255, 8192, 8192, 512)\n",
    "plt.pyplot.figure(figsize=(8, 6))\n",
    "plt.pyplot.imshow(mb_img_mat, extent = [-0.235165, -0.235085, 0.827175, 0.827255], cmap = 'hot')\n",
    "#plt.pyplot.colorbar()\n",
    "#plt.pyplot.title(\"Mandelbrot Section\")\n",
    "#plt.pyplot.xlabel(\"Re(c)\")\n",
    "#plt.pyplot.ylabel(\"Im(c)\")\n",
    "plt.pyplot.axis('off')\n",
    "plt.pyplot.savefig(\"mb_img10.png\", format = \"png\", dpi = 1200)\n",
    "#plt.pyplot.show()"
   ]
  },
  {
   "cell_type": "code",
   "execution_count": 0,
   "metadata": {
    "application/vnd.databricks.v1+cell": {
     "cellMetadata": {
      "byteLimit": 2048000,
      "rowLimit": 10000
     },
     "inputWidgets": {},
     "nuid": "f08dd35a-21be-4a44-8a78-7255bd3f251b",
     "showTitle": false,
     "tableResultSettingsMap": {},
     "title": ""
    }
   },
   "outputs": [],
   "source": [
    "mb_img_mat = mandelbrot_set(-0.235165, -0.235085, 0.827175, 0.827255, 1024, 1024, 1024)\n",
    "#plt.pyplot.figure(figsize=(8, 6))\n",
    "plt.pyplot.imshow(mb_img_mat, extent = [-0.235165, -0.235085, 0.827175, 0.827255], cmap = 'hot')\n",
    "#plt.pyplot.colorbar()\n",
    "#plt.pyplot.title(\"Mandelbrot Section\")\n",
    "#plt.pyplot.xlabel(\"Re(c)\")\n",
    "#plt.pyplot.ylabel(\"Im(c)\")\n",
    "plt.pyplot.axis('off')\n",
    "plt.pyplot.savefig(\"mb_img10.png\", format = \"png\", dpi = 1200)\n",
    "#plt.pyplot.show()"
   ]
  },
  {
   "cell_type": "code",
   "execution_count": 0,
   "metadata": {
    "application/vnd.databricks.v1+cell": {
     "cellMetadata": {
      "byteLimit": 2048000,
      "rowLimit": 10000
     },
     "inputWidgets": {},
     "nuid": "e3045ecb-96a6-4768-a919-a6dcbe83aebd",
     "showTitle": false,
     "tableResultSettingsMap": {},
     "title": ""
    },
    "jupyter": {
     "source_hidden": true
    }
   },
   "outputs": [],
   "source": [
    "mb_img_mat = mandelbrot_set(-0.7494, -0.7466, 0.0986, 0.1014, 1024, 1024, 256)\n",
    "plt.pyplot.imshow(mb_img_mat, extent = [-0.7494, -0.7466, 0.0986, 0.1014], cmap = 'hot')\n",
    "#plt.pyplot.colorbar()\n",
    "plt.pyplot.title(\"Mandelbrot Section\")\n",
    "plt.pyplot.xlabel(\"Re(c)\")\n",
    "plt.pyplot.ylabel(\"Im(c)\")\n",
    "plt.pyplot.axis('off')\n",
    "plt.pyplot.savefig(\"mb_img11.png\", format = \"png\", dpi = 1200)\n",
    "plt.pyplot.show()"
   ]
  },
  {
   "cell_type": "code",
   "execution_count": 0,
   "metadata": {
    "application/vnd.databricks.v1+cell": {
     "cellMetadata": {
      "byteLimit": 2048000,
      "rowLimit": 10000
     },
     "inputWidgets": {},
     "nuid": "2c5f7062-0be5-4821-a799-018ce34a21f5",
     "showTitle": false,
     "tableResultSettingsMap": {},
     "title": ""
    },
    "jupyter": {
     "source_hidden": true
    }
   },
   "outputs": [],
   "source": [
    "mb_img_mat = mandelbrot_set(-0.7513, -0.7413, 0.1052, 0.1152, 1024, 1024, 256)\n",
    "plt.pyplot.imshow(mb_img_mat, extent = [-0.7513, -0.7413, 0.1052, 0.1152], cmap = 'hot')\n",
    "#plt.pyplot.colorbar()\n",
    "plt.pyplot.title(\"Mandelbrot Section\")\n",
    "plt.pyplot.xlabel(\"Re(c)\")\n",
    "plt.pyplot.ylabel(\"Im(c)\")\n",
    "plt.pyplot.axis('off')\n",
    "plt.pyplot.savefig(\"mb_img12.png\", format = \"png\", dpi = 1200)\n",
    "plt.pyplot.show()"
   ]
  },
  {
   "cell_type": "code",
   "execution_count": 0,
   "metadata": {
    "application/vnd.databricks.v1+cell": {
     "cellMetadata": {
      "byteLimit": 2048000,
      "rowLimit": 10000
     },
     "inputWidgets": {},
     "nuid": "32380e92-c18a-4c8f-9bef-d1f3fed8ffcf",
     "showTitle": false,
     "tableResultSettingsMap": {},
     "title": ""
    },
    "jupyter": {
     "source_hidden": true
    }
   },
   "outputs": [],
   "source": [
    "mb_img_mat = mandelbrot_set(-1.2509, -1.25042, 0.01995, 0.02029, 1024, 1024, 256)\n",
    "plt.pyplot.imshow(mb_img_mat, extent = [-1.2509, -1.25042, 0.01995, 0.02029], cmap = 'hot')\n",
    "#plt.pyplot.colorbar()\n",
    "plt.pyplot.title(\"Mandelbrot Section\")\n",
    "plt.pyplot.xlabel(\"Re(c)\")\n",
    "plt.pyplot.ylabel(\"Im(c)\")\n",
    "plt.pyplot.axis('off')\n",
    "plt.pyplot.savefig(\"mb_img13.png\", format = \"png\", dpi = 1200)\n",
    "plt.pyplot.show()"
   ]
  },
  {
   "cell_type": "code",
   "execution_count": 0,
   "metadata": {
    "application/vnd.databricks.v1+cell": {
     "cellMetadata": {
      "byteLimit": 2048000,
      "rowLimit": 10000
     },
     "inputWidgets": {},
     "nuid": "9bf975b7-84b0-4695-9244-99a45294e887",
     "showTitle": false,
     "tableResultSettingsMap": {},
     "title": ""
    },
    "jupyter": {
     "source_hidden": true
    }
   },
   "outputs": [],
   "source": [
    "mb_img_mat = mandelbrot_set(-0.745467, -0.745389, 0.112979, 0.113039, 1024, 1024, 256)\n",
    "plt.pyplot.imshow(mb_img_mat, extent = [-0.745467, -0.745389, 0.112979, 0.113039], cmap = 'hot')\n",
    "#plt.pyplot.colorbar()\n",
    "plt.pyplot.title(\"Mandelbrot Section\")\n",
    "plt.pyplot.xlabel(\"Re(c)\")\n",
    "plt.pyplot.ylabel(\"Im(c)\")\n",
    "plt.pyplot.axis('off')\n",
    "plt.pyplot.savefig(\"mb_img14.png\", format = \"png\", dpi = 1200)\n",
    "plt.pyplot.show()"
   ]
  },
  {
   "cell_type": "code",
   "execution_count": 0,
   "metadata": {
    "application/vnd.databricks.v1+cell": {
     "cellMetadata": {
      "byteLimit": 2048000,
      "rowLimit": 10000
     },
     "inputWidgets": {},
     "nuid": "c4749b6c-740c-4521-ba6c-10ea5e9e4151",
     "showTitle": false,
     "tableResultSettingsMap": {},
     "title": ""
    },
    "jupyter": {
     "source_hidden": true
    }
   },
   "outputs": [],
   "source": [
    "mb_img_mat = mandelbrot_set(-0.7494, -0.7466, 0.0986, 0.1014, 1024, 1024, 256)\n",
    "plt.pyplot.imshow(mb_img_mat, extent = [-0.7494, -0.7466, 0.0986, 0.1014], cmap = 'hot')\n",
    "#plt.pyplot.colorbar()\n",
    "plt.pyplot.title(\"Mandelbrot Section\")\n",
    "plt.pyplot.xlabel(\"Re(c)\")\n",
    "plt.pyplot.ylabel(\"Im(c)\")\n",
    "plt.pyplot.axis('off')\n",
    "plt.pyplot.savefig(\"mb_img15.png\", format = \"png\", dpi = 1200)\n",
    "plt.pyplot.show()"
   ]
  },
  {
   "cell_type": "code",
   "execution_count": 0,
   "metadata": {
    "application/vnd.databricks.v1+cell": {
     "cellMetadata": {
      "byteLimit": 2048000,
      "rowLimit": 10000
     },
     "inputWidgets": {},
     "nuid": "b490333b-ac84-46e8-976f-8fd3be616644",
     "showTitle": false,
     "tableResultSettingsMap": {},
     "title": ""
    }
   },
   "outputs": [],
   "source": [
    "mb_img_mat = mandelbrot_set(-0.74595, -0.74465, 0.11205, 0.11335, 8192, 8192, 512)\n",
    "plt.pyplot.imshow(mb_img_mat, extent = [-0.74595, -0.74465, 0.11205, 0.11335], cmap = 'hot')\n",
    "#plt.pyplot.colorbar()\n",
    "#plt.pyplot.title(\"Mandelbrot Section\")\n",
    "#plt.pyplot.xlabel(\"Re(c)\")\n",
    "#plt.pyplot.ylabel(\"Im(c)\")\n",
    "plt.pyplot.axis('off')\n",
    "plt.pyplot.savefig(\"mb_img16.png\", format = \"png\", dpi = 1200)\n",
    "#plt.pyplot.show()"
   ]
  },
  {
   "cell_type": "code",
   "execution_count": 0,
   "metadata": {
    "application/vnd.databricks.v1+cell": {
     "cellMetadata": {
      "byteLimit": 2048000,
      "rowLimit": 10000
     },
     "inputWidgets": {},
     "nuid": "5204ab21-dc66-4a7f-910a-414939c4c634",
     "showTitle": false,
     "tableResultSettingsMap": {},
     "title": ""
    }
   },
   "outputs": [],
   "source": [
    "plt.pyplot.savefig(\"mb_img16.svg\", format = \"svg\")"
   ]
  }
 ],
 "metadata": {
  "application/vnd.databricks.v1+notebook": {
   "computePreferences": {
    "hardware": {
     "accelerator": null,
     "gpuPoolId": null,
     "memory": "STANDARD"
    }
   },
   "dashboards": [],
   "environmentMetadata": {
    "base_environment": "",
    "environment_version": "2"
   },
   "inputWidgetPreferences": null,
   "language": "python",
   "notebookMetadata": {
    "pythonIndentUnit": 4
   },
   "notebookName": "(Clone) Mandelbrot Set Experiment",
   "widgets": {}
  },
  "language_info": {
   "name": "python"
  }
 },
 "nbformat": 4,
 "nbformat_minor": 0
}
